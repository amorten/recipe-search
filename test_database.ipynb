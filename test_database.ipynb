{
 "cells": [
  {
   "cell_type": "code",
   "execution_count": 1,
   "metadata": {
    "collapsed": true
   },
   "outputs": [],
   "source": [
    "# test_database.ipynb\n",
    "\n",
    "# Demonstrates some of the functionality of \n",
    "# recipe_search.database \n",
    "# using a very tiny database"
   ]
  },
  {
   "cell_type": "code",
   "execution_count": 2,
   "metadata": {},
   "outputs": [],
   "source": [
    "# Import my recipe_search package and subpackages.\n",
    "# Rename recipe_search as rs\n",
    "import recipe_search\n",
    "import recipe_search.database\n",
    "rs = recipe_search\n",
    "\n",
    "import MySQLdb"
   ]
  },
  {
   "cell_type": "code",
   "execution_count": 3,
   "metadata": {},
   "outputs": [],
   "source": [
    "# Select the tiny database -- only ~50,000 recipes -- for purpose of demonstration\n",
    "db = rs.database.get_db(\"localhost\",\"root\",\"pwd4recDB\",\"recipes_tiny\")\n",
    "cursor = rs.database.get_cursor(db)"
   ]
  },
  {
   "cell_type": "code",
   "execution_count": 4,
   "metadata": {},
   "outputs": [],
   "source": [
    "# Create tables\n",
    "#rs.database.create_recipes_table(cursor) #only works once\n",
    "#rs.database.create_ingred_tables(cursor) #only works once"
   ]
  },
  {
   "cell_type": "code",
   "execution_count": 5,
   "metadata": {},
   "outputs": [],
   "source": [
    "# Fill Recipes table with first 1000 recipes from Allrecipes.com\n",
    "path_to_recipes_list = [ '/Users/amorten/Projects/RecipeSearch/RecipeFiles/Sites/AllRecipes.com/First1000']\n",
    "path_to_parser = '/Users/amorten/Projects/RecipeSearch/RecipeFiles/Sites/AllRecipes.com/Recipes'\n",
    "logfile_name = \"allrecipes_log.txt\"\n",
    "\n",
    "# Only run the following lines of code once (or else we'll insert duplicate recipes)\n",
    "#rs.database.fill_recipe_table(db, cursor,\n",
    "#                              path_to_recipes_list, path_to_parser,\n",
    "#                              logfile_name)"
   ]
  },
  {
   "cell_type": "code",
   "execution_count": 6,
   "metadata": {},
   "outputs": [],
   "source": [
    "# Fill the ingredient tables\n",
    "#rs.database.fill_ingred_tables(db,cursor) # best to do only once"
   ]
  },
  {
   "cell_type": "code",
   "execution_count": 7,
   "metadata": {},
   "outputs": [
    {
     "name": "stderr",
     "output_type": "stream",
     "text": [
      "recipe_search/database/create_smart_ingreds.py:20: Warning: Table 'SmartIngreds1' already exists\n",
      "  \"\"\"\n"
     ]
    },
    {
     "name": "stdout",
     "output_type": "stream",
     "text": [
      "Row 1: Is cups (idx=25,cnt=809) a good ingredient word (Y=z/N=x/Q)? Q\n"
     ]
    }
   ],
   "source": [
    "# Select smart_ingreds (and fill SmartIngreds1 table)\n",
    "start_idx = 1\n",
    "rs.database.create_smart_ingreds_1(db,cursor,start_idx)"
   ]
  },
  {
   "cell_type": "code",
   "execution_count": null,
   "metadata": {
    "collapsed": true
   },
   "outputs": [],
   "source": []
  }
 ],
 "metadata": {
  "kernelspec": {
   "display_name": "Python 2",
   "language": "python",
   "name": "python2"
  },
  "language_info": {
   "codemirror_mode": {
    "name": "ipython",
    "version": 2
   },
   "file_extension": ".py",
   "mimetype": "text/x-python",
   "name": "python",
   "nbconvert_exporter": "python",
   "pygments_lexer": "ipython2",
   "version": "2.7.10"
  }
 },
 "nbformat": 4,
 "nbformat_minor": 2
}
