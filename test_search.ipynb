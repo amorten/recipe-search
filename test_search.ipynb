{
 "cells": [
  {
   "cell_type": "code",
   "execution_count": 1,
   "metadata": {
    "collapsed": true
   },
   "outputs": [],
   "source": [
    "# test_search.ipynb\n",
    "\n",
    "# Demonstrates some of the functionality of \n",
    "# recipe_search.search\n",
    "# using the small database"
   ]
  },
  {
   "cell_type": "code",
   "execution_count": 2,
   "metadata": {
    "collapsed": true
   },
   "outputs": [],
   "source": [
    "# Import my recipe_search package and subpackages.\n",
    "# Rename recipe_search as rs\n",
    "import recipe_search\n",
    "import recipe_search.database\n",
    "import recipe_search.search\n",
    "rs = recipe_search\n",
    "\n",
    "import MySQLdb"
   ]
  },
  {
   "cell_type": "code",
   "execution_count": 3,
   "metadata": {
    "collapsed": true
   },
   "outputs": [],
   "source": [
    "# Select the small database -- only ~50,000 recipes -- for purpose of demonstration\n",
    "db = rs.database.get_db(\"localhost\",\"root\",\"pwd4recDB\",\"recipes_small\")\n",
    "cursor = rs.database.get_cursor(db)"
   ]
  },
  {
   "cell_type": "code",
   "execution_count": 26,
   "metadata": {
    "collapsed": true
   },
   "outputs": [],
   "source": [
    "# Choose an ingredient\n",
    "ingred = 'mushrooms'\n",
    "#ingred = 'carrots'\n",
    "#ingred = 'chocolate'\n",
    "#ingred = 'raisins'\n",
    "#ingred = 'ears'"
   ]
  },
  {
   "cell_type": "code",
   "execution_count": 27,
   "metadata": {
    "collapsed": true
   },
   "outputs": [],
   "source": [
    "# Set up the other parameters for rs.analyze.compare_cluster_vs_random\n",
    "metric = 'jaccard'\n",
    "num_clusters_list = [5,10,15]\n",
    "data_dir = (\"/Users/amorten/Projects/RecipeSearch/Data/\"\n",
    "            \"recipes_small/HClusters/\")"
   ]
  },
  {
   "cell_type": "code",
   "execution_count": 28,
   "metadata": {
    "collapsed": true
   },
   "outputs": [],
   "source": [
    "rand_rec_ids_list = rs.search.get_distributed_recipes(ingred,metric,num_clusters_list,data_dir)\n",
    "\n"
   ]
  },
  {
   "cell_type": "code",
   "execution_count": 29,
   "metadata": {},
   "outputs": [
    {
     "name": "stdout",
     "output_type": "stream",
     "text": [
      "Search results, first 5 recipes:\n",
      "\tBeef Burgundy Over Noodles\n",
      "\tMushroom Pepper Steak\n",
      "\tT's Easy Chicken\n",
      "\tVeal Forestiere\n",
      "\tBreakfast Supreme\n",
      "Search results, first 10 recipes:\n",
      "\tBeef Burgundy Over Noodles\n",
      "\tMushroom Pepper Steak\n",
      "\tT's Easy Chicken\n",
      "\tVeal Forestiere\n",
      "\tBreakfast Supreme\n",
      "\tRed Wine Pork\n",
      "\tTurkey Rice Casserole\n",
      "\tSmooth and Cheesy Omelet\n",
      "\tShiitake Angel Hair Pasta\n",
      "\tStuffed Shells IV\n",
      "Search results, first 15 recipes:\n",
      "\tBeef Burgundy Over Noodles\n",
      "\tMushroom Pepper Steak\n",
      "\tT's Easy Chicken\n",
      "\tVeal Forestiere\n",
      "\tBreakfast Supreme\n",
      "\tRed Wine Pork\n",
      "\tTurkey Rice Casserole\n",
      "\tSmooth and Cheesy Omelet\n",
      "\tShiitake Angel Hair Pasta\n",
      "\tStuffed Shells IV\n",
      "\tMushroom Salisbury Steak\n",
      "\tSalsa Fish Skillet\n",
      "\tOver the Fire Scalloped Potatoes\n",
      "\tCold Spaghetti Salad\n",
      "\tChinese Ham Stew\n"
     ]
    }
   ],
   "source": [
    "for idx in range(len(num_clusters_list)):\n",
    "\n",
    "    rec_ids = rand_rec_ids_list[idx]\n",
    "    rec_rows = rs.database.get_recipe_info(cursor,rec_ids,'rec_name')\n",
    "    \n",
    "    print(\"Search results, first {} recipes:\".format(len(rec_ids)))\n",
    "    print('\\t'+'\\n\\t'.join([rec_row['rec_name'] for rec_row in rec_rows]))"
   ]
  },
  {
   "cell_type": "code",
   "execution_count": null,
   "metadata": {
    "collapsed": true
   },
   "outputs": [],
   "source": []
  }
 ],
 "metadata": {
  "kernelspec": {
   "display_name": "Python 2",
   "language": "python",
   "name": "python2"
  },
  "language_info": {
   "codemirror_mode": {
    "name": "ipython",
    "version": 2
   },
   "file_extension": ".py",
   "mimetype": "text/x-python",
   "name": "python",
   "nbconvert_exporter": "python",
   "pygments_lexer": "ipython2",
   "version": "2.7.10"
  }
 },
 "nbformat": 4,
 "nbformat_minor": 2
}
