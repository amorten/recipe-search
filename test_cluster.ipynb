{
 "cells": [
  {
   "cell_type": "code",
   "execution_count": 1,
   "metadata": {
    "collapsed": true
   },
   "outputs": [],
   "source": [
    "# test_cluster.ipynb\n",
    "\n",
    "# Demonstrates some of the functionality of \n",
    "# recipe_search.cluster \n",
    "# using the small database"
   ]
  },
  {
   "cell_type": "code",
   "execution_count": 2,
   "metadata": {
    "collapsed": true
   },
   "outputs": [],
   "source": [
    "# Import my recipe_search package and subpackages.\n",
    "# Rename recipe_search as rs\n",
    "import recipe_search\n",
    "import recipe_search.database\n",
    "import recipe_search.cluster\n",
    "rs = recipe_search\n",
    "\n",
    "import MySQLdb"
   ]
  },
  {
   "cell_type": "code",
   "execution_count": 3,
   "metadata": {
    "collapsed": true
   },
   "outputs": [],
   "source": [
    "# Select the small database -- only ~50,000 recipes -- for purpose of demonstration\n",
    "db = rs.database.get_db(\"localhost\",\"root\",\"pwd4recDB\",\"recipes_small\")\n",
    "cursor = rs.database.get_cursor(db)"
   ]
  },
  {
   "cell_type": "code",
   "execution_count": 4,
   "metadata": {
    "collapsed": true
   },
   "outputs": [],
   "source": [
    "# Choose an ingredient\n",
    "ingred = 'mushrooms'\n",
    "#ingred = 'carrots'\n",
    "#ingred = 'chocolate'\n",
    "#ingred = 'raisins'\n",
    "#ingred = 'ears'"
   ]
  },
  {
   "cell_type": "code",
   "execution_count": 5,
   "metadata": {
    "collapsed": true
   },
   "outputs": [],
   "source": [
    "# Set up the other parameters for rs.analyze.compare_cluster_vs_random\n",
    "metric = 'jaccard'\n",
    "data_dir = (\"/Users/amorten/Projects/RecipeSearch/Data/\"\n",
    "            \"recipes_small/HClusters/\")"
   ]
  },
  {
   "cell_type": "code",
   "execution_count": 6,
   "metadata": {},
   "outputs": [
    {
     "name": "stdout",
     "output_type": "stream",
     "text": [
      "Time to fetch data: 0.265446186066 seconds\n",
      "Time to construct matrix: 0.473091125488 seconds\n",
      "Size of cluster file is 1518957 bytes\n",
      "Time to calculate cluster: 3.68068909645 seconds\n"
     ]
    },
    {
     "data": {
      "text/plain": [
       "array([[  4.98000000e+02,   1.53200000e+03,   0.00000000e+00,\n",
       "          2.00000000e+00],\n",
       "       [  1.02000000e+03,   1.30900000e+03,   0.00000000e+00,\n",
       "          2.00000000e+00],\n",
       "       [  2.16000000e+02,   1.29500000e+03,   0.00000000e+00,\n",
       "          2.00000000e+00],\n",
       "       ..., \n",
       "       [  4.11100000e+03,   4.11500000e+03,   9.82142857e-01,\n",
       "          8.87000000e+02],\n",
       "       [  4.11700000e+03,   4.11800000e+03,   9.83606557e-01,\n",
       "          1.60600000e+03],\n",
       "       [  4.11400000e+03,   4.11900000e+03,   9.84615385e-01,\n",
       "          2.06100000e+03]])"
      ]
     },
     "execution_count": 6,
     "metadata": {},
     "output_type": "execute_result"
    }
   ],
   "source": [
    "# Perform hierarchical clustering\n",
    "rs.cluster.cluster_by_ingred(cursor,ingred,metric,data_dir)"
   ]
  },
  {
   "cell_type": "code",
   "execution_count": 7,
   "metadata": {},
   "outputs": [
    {
     "name": "stdout",
     "output_type": "stream",
     "text": [
      "Top 100 ingredient runtimes:\n",
      "salt: 0.0020029629629630 CPU days\n",
      "sugar: 0.0013836802962963 CPU days\n",
      "pepper: 0.0009747226851852 CPU days\n",
      "butter: 0.0009637369629630 CPU days\n",
      "ground: 0.0007563866851852 CPU days\n",
      "flour: 0.0007247691851852 CPU days\n",
      "white: 0.0007032667824074 CPU days\n",
      "oil: 0.0005409003750000 CPU days\n",
      "purpose: 0.0005387007824074 CPU days\n",
      "onion: 0.0005151916712963 CPU days\n",
      "cheese: 0.0004923980046296 CPU days\n",
      "garlic: 0.0004284462962963 CPU days\n",
      "water: 0.0003980950416667 CPU days\n",
      "milk: 0.0003658070416667 CPU days\n",
      "cream: 0.0003551855601852 CPU days\n",
      "can: 0.0003500945185185 CPU days\n",
      "powder: 0.0003396260416667 CPU days\n",
      "eggs: 0.0002895938935185 CPU days\n",
      "sliced: 0.0002663528935185 CPU days\n",
      "vanilla: 0.0002418033750000 CPU days\n",
      "baking: 0.0002189496712963 CPU days\n",
      "extract: 0.0002152089074074 CPU days\n",
      "juice: 0.0001857386851852 CPU days\n",
      "green: 0.0001746489074074 CPU days\n",
      "sauce: 0.0001699044629630 CPU days\n",
      "egg: 0.0001607752268519 CPU days\n",
      "black: 0.0001566550416667 CPU days\n",
      "chicken: 0.0001558481666667 CPU days\n",
      "vegetable: 0.0001352501157407 CPU days\n",
      "brown: 0.0001326602268519 CPU days\n",
      "dried: 0.0001317695601852 CPU days\n",
      "cloves: 0.0001112481666667 CPU days\n",
      "red: 0.0001107041666667 CPU days\n",
      "olive: 0.0001038850416667 CPU days\n",
      "lemon: 0.0001035344490741 CPU days\n",
      "cinnamon: 0.0000813946712963 CPU days\n",
      "soda: 0.0000697322268519 CPU days\n",
      "dry: 0.0000682311157407 CPU days\n",
      "margarine: 0.0000679825185185 CPU days\n",
      "frozen: 0.0000653822407407 CPU days\n",
      "tomatoes: 0.0000560344490741 CPU days\n",
      "beef: 0.0000517391157407 CPU days\n",
      "vinegar: 0.0000509067407407 CPU days\n",
      "chocolate: 0.0000495950416667 CPU days\n",
      "onions: 0.0000461418935185 CPU days\n",
      "bread: 0.0000440041157407 CPU days\n",
      "celery: 0.0000397720416667 CPU days\n",
      "parsley: 0.0000380275740741 CPU days\n",
      "Cheddar: 0.0000370258518519 CPU days\n",
      "boneless: 0.0000365560185185 CPU days\n",
      "tomato: 0.0000316584490741 CPU days\n",
      "broth: 0.0000313444629630 CPU days\n",
      "confectioners: 0.0000311760416667 CPU days\n",
      "sour: 0.0000304593750000 CPU days\n",
      "potatoes: 0.0000302460000000 CPU days\n",
      "whole: 0.0000301986851852 CPU days\n",
      "cans: 0.0000265778518519 CPU days\n",
      "rice: 0.0000259822268519 CPU days\n",
      "bell: 0.0000256106666667 CPU days\n",
      "condensed: 0.0000251985601852 CPU days\n",
      "mustard: 0.0000250691157407 CPU days\n",
      "walnuts: 0.0000247255601852 CPU days\n",
      "Parmesan: 0.0000244694490741 CPU days\n",
      "orange: 0.0000241935000000 CPU days\n",
      "wine: 0.0000228577962963 CPU days\n",
      "chips: 0.0000222650416667 CPU days\n",
      "corn: 0.0000212018518519 CPU days\n",
      "soup: 0.0000207681666667 CPU days\n",
      "beans: 0.0000207093750000 CPU days\n",
      "hot: 0.0000204361157407 CPU days\n",
      "skinless: 0.0000203583750000 CPU days\n",
      "breast: 0.0000201646712963 CPU days\n",
      "mushrooms: 0.0000196653750000 CPU days\n",
      "mayonnaise: 0.0000178215000000 CPU days\n",
      "nutmeg: 0.0000168363379630 CPU days\n",
      "ginger: 0.0000165550046296 CPU days\n",
      "basil: 0.0000161893518519 CPU days\n",
      "pork: 0.0000155720185185 CPU days\n",
      "carrots: 0.0000155211157407 CPU days\n",
      "soy: 0.0000149666851852 CPU days\n",
      "shortening: 0.0000148172268519 CPU days\n",
      "sweet: 0.0000144223379630 CPU days\n",
      "clove: 0.0000141296712963 CPU days\n",
      "pecans: 0.0000138080046296 CPU days\n",
      "crumbs: 0.0000135533379630 CPU days\n",
      "pie: 0.0000125126666667 CPU days\n",
      "semisweet: 0.0000123457824074 CPU days\n",
      "bacon: 0.0000123004629630 CPU days\n",
      "honey: 0.0000121050416667 CPU days\n",
      "topping: 0.0000113970416667 CPU days\n",
      "oregano: 0.0000113245185185 CPU days\n",
      "Italian: 0.0000112666666667 CPU days\n",
      "cornstarch: 0.0000111370416667 CPU days\n",
      "heavy: 0.0000107950416667 CPU days\n",
      "leaves: 0.0000105840000000 CPU days\n",
      "raisins: 0.0000105560185185 CPU days\n",
      "peppers: 0.0000101818935185 CPU days\n",
      "pineapple: 0.0000101681666667 CPU days\n",
      "coconut: 0.0000095600416667 CPU days\n",
      "whipped: 0.0000095334490741 CPU days\n",
      "Total estimated runtime for single ingred clusters: 0.0171259246388960 CPU days\n"
     ]
    }
   ],
   "source": [
    "# Calculate and print estimated CPU time \n",
    "# needed to compute all hierarchical clusters\n",
    "# for single ingredients\n",
    "\n",
    "num_ingreds_to_print=100\n",
    "tot_runtime = rs.cluster.estimate_run_time(cursor,num_ingreds_to_print)"
   ]
  },
  {
   "cell_type": "code",
   "execution_count": null,
   "metadata": {
    "collapsed": true
   },
   "outputs": [],
   "source": []
  }
 ],
 "metadata": {
  "kernelspec": {
   "display_name": "Python 2",
   "language": "python",
   "name": "python2"
  },
  "language_info": {
   "codemirror_mode": {
    "name": "ipython",
    "version": 2
   },
   "file_extension": ".py",
   "mimetype": "text/x-python",
   "name": "python",
   "nbconvert_exporter": "python",
   "pygments_lexer": "ipython2",
   "version": "2.7.10"
  }
 },
 "nbformat": 4,
 "nbformat_minor": 2
}
